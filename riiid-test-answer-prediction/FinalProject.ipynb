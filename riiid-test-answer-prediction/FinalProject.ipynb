{
 "cells": [
  {
   "cell_type": "code",
   "execution_count": 1,
   "metadata": {},
   "outputs": [],
   "source": [
    "import pandas as pd\n",
    "# cols_to_load = ['row_id', 'user_id', 'answered_correctly', 'content_id', 'prior_question_had_explanation', 'prior_question_elapsed_time']\n",
    "cols_to_load = ['row_id', 'user_id', 'answered_correctly', 'content_id']\n",
    "df = pd.read_csv(\"riiid-test-answer-prediction/train.csv\")[cols_to_load]"
   ]
  },
  {
   "cell_type": "code",
   "execution_count": 2,
   "metadata": {},
   "outputs": [
    {
     "data": {
      "text/plain": [
       "0"
      ]
     },
     "execution_count": 2,
     "metadata": {},
     "output_type": "execute_result"
    }
   ],
   "source": [
    "import numpy as np\n",
    "np.min(df[df.answered_correctly != -1]['content_id'].unique())\n",
    "#0 -> 13522"
   ]
  },
  {
   "cell_type": "code",
   "execution_count": 103,
   "metadata": {},
   "outputs": [
    {
     "ename": "NameError",
     "evalue": "name 'df' is not defined",
     "output_type": "error",
     "traceback": [
      "\u001b[0;31m---------------------------------------------------------------------------\u001b[0m",
      "\u001b[0;31mNameError\u001b[0m                                 Traceback (most recent call last)",
      "\u001b[0;32m<ipython-input-103-238f06d1daa7>\u001b[0m in \u001b[0;36m<module>\u001b[0;34m\u001b[0m\n\u001b[0;32m----> 1\u001b[0;31m \u001b[0mtrain\u001b[0m \u001b[0;34m=\u001b[0m \u001b[0mdf\u001b[0m\u001b[0;34m.\u001b[0m\u001b[0msample\u001b[0m\u001b[0;34m(\u001b[0m\u001b[0;36m100000\u001b[0m\u001b[0;34m)\u001b[0m\u001b[0;34m\u001b[0m\u001b[0;34m\u001b[0m\u001b[0m\n\u001b[0m\u001b[1;32m      2\u001b[0m \u001b[0mtrain\u001b[0m\u001b[0;34m.\u001b[0m\u001b[0mhead\u001b[0m\u001b[0;34m(\u001b[0m\u001b[0;34m)\u001b[0m\u001b[0;34m\u001b[0m\u001b[0;34m\u001b[0m\u001b[0m\n",
      "\u001b[0;31mNameError\u001b[0m: name 'df' is not defined"
     ]
    }
   ],
   "source": [
    "train = df.sample(100000)\n",
    "train.head()"
   ]
  },
  {
   "cell_type": "code",
   "execution_count": 66,
   "metadata": {},
   "outputs": [],
   "source": [
    "del df"
   ]
  },
  {
   "cell_type": "code",
   "execution_count": 5,
   "metadata": {},
   "outputs": [],
   "source": [
    "train = train.drop(columns=['row_id'])"
   ]
  },
  {
   "cell_type": "code",
   "execution_count": 8,
   "metadata": {},
   "outputs": [],
   "source": [
    "train['answered_correctly'] = train['answered_correctly'].replace(1,2)\n",
    "train['answered_correctly'] = train['answered_correctly'].replace(0,1)"
   ]
  },
  {
   "cell_type": "code",
   "execution_count": 82,
   "metadata": {},
   "outputs": [],
   "source": [
    "train = train[train.answered_correctly != -1].groupby('user_id').apply(lambda x: (x['content_id'],x['answered_correctly']))"
   ]
  },
  {
   "cell_type": "code",
   "execution_count": 156,
   "metadata": {},
   "outputs": [],
   "source": [
    "train = train[0:500]"
   ]
  },
  {
   "cell_type": "code",
   "execution_count": 157,
   "metadata": {},
   "outputs": [],
   "source": [
    "train_full = []\n",
    "for item in train:\n",
    "    train_list = [0] * 13523\n",
    "    for i in range(0,len(item),2):\n",
    "        train_list[item[i].values[0]] = item[i+1].values[0]\n",
    "    train_full.append(train_list)"
   ]
  },
  {
   "cell_type": "code",
   "execution_count": 158,
   "metadata": {},
   "outputs": [],
   "source": [
    "import torch\n",
    "import torch.nn as nn\n",
    "import torch.nn.functional as F\n",
    "import torch.optim as optim\n",
    "from torch.utils.data import DataLoader\n",
    "from torch.utils.data import TensorDataset"
   ]
  },
  {
   "cell_type": "code",
   "execution_count": 159,
   "metadata": {},
   "outputs": [],
   "source": [
    "class network2(nn.Module):\n",
    "    \n",
    "    def __init__(self , num_item):\n",
    "        \n",
    "        super().__init__()\n",
    "        self.fc1 = nn.Linear(num_item , 1024)\n",
    "        self.fc2 = nn.Linear(1024 , 512)\n",
    "        self.fc3 = nn.Linear(512 , 256)\n",
    "        self.fc4 = nn.Linear(256 , 512)\n",
    "        self.fc5 = nn.Linear(512 , 1024)\n",
    "        self.out = nn.Linear(1024 , num_item)\n",
    "        \n",
    "    def forward(self , x):\n",
    "        \n",
    "        x = F.selu(self.fc1(x))\n",
    "        x = F.selu(self.fc2(x))\n",
    "        x = F.selu(self.fc3(x))\n",
    "        x = F.selu(self.fc4(x))\n",
    "        x = F.selu(self.fc5(x))\n",
    "        x = self.out(x)\n",
    "        return x"
   ]
  },
  {
   "cell_type": "code",
   "execution_count": 160,
   "metadata": {},
   "outputs": [],
   "source": [
    "model = network2(13523).float()\n",
    "criterion = nn.MSELoss()\n",
    "optimizer = torch.optim.AdamW(model.parameters(),lr=0.001)"
   ]
  },
  {
   "cell_type": "code",
   "execution_count": 163,
   "metadata": {},
   "outputs": [
    {
     "name": "stdout",
     "output_type": "stream",
     "text": [
      "epoch [1/3], loss:0.0001\n",
      "epoch [2/3], loss:0.0000\n",
      "epoch [3/3], loss:0.0000\n"
     ]
    }
   ],
   "source": [
    "num_epochs = 3\n",
    "for epoch in range(num_epochs):\n",
    "    total_loss = 0 \n",
    "    batch_data = TensorDataset(torch.tensor(train_full))\n",
    "    dataloader = DataLoader(batch_data, batch_size=128, shuffle=True)\n",
    "    for data in dataloader:\n",
    "        data = data[0].float()\n",
    "        # ===================forward====================\n",
    "        output = model(data)\n",
    "        mask = data != 0\n",
    "        loss = criterion(output * mask.float(), data)\n",
    "        total_loss += loss\n",
    "        # ===================backward====================\n",
    "        optimizer.zero_grad()\n",
    "        loss.backward()\n",
    "        optimizer.step()\n",
    "    print('epoch [{}/{}], loss:{:.4f}' .format(epoch + 1, num_epochs, total_loss))"
   ]
  },
  {
   "cell_type": "code",
   "execution_count": 4,
   "metadata": {},
   "outputs": [],
   "source": [
    "df['prior_question_had_explanation'] = df['prior_question_had_explanation'].astype('bool')"
   ]
  },
  {
   "cell_type": "code",
   "execution_count": 5,
   "metadata": {},
   "outputs": [],
   "source": [
    "train = df.sample(1000000)"
   ]
  },
  {
   "cell_type": "code",
   "execution_count": 6,
   "metadata": {},
   "outputs": [
    {
     "data": {
      "text/html": [
       "<div>\n",
       "<style scoped>\n",
       "    .dataframe tbody tr th:only-of-type {\n",
       "        vertical-align: middle;\n",
       "    }\n",
       "\n",
       "    .dataframe tbody tr th {\n",
       "        vertical-align: top;\n",
       "    }\n",
       "\n",
       "    .dataframe thead th {\n",
       "        text-align: right;\n",
       "    }\n",
       "</style>\n",
       "<table border=\"1\" class=\"dataframe\">\n",
       "  <thead>\n",
       "    <tr style=\"text-align: right;\">\n",
       "      <th></th>\n",
       "      <th>row_id</th>\n",
       "      <th>user_id</th>\n",
       "      <th>answered_correctly</th>\n",
       "      <th>content_id</th>\n",
       "      <th>prior_question_had_explanation</th>\n",
       "      <th>prior_question_elapsed_time</th>\n",
       "    </tr>\n",
       "  </thead>\n",
       "  <tbody>\n",
       "    <tr>\n",
       "      <th>87341296</th>\n",
       "      <td>87341296</td>\n",
       "      <td>1858251086</td>\n",
       "      <td>1</td>\n",
       "      <td>10688</td>\n",
       "      <td>True</td>\n",
       "      <td>16000.0</td>\n",
       "    </tr>\n",
       "    <tr>\n",
       "      <th>11529006</th>\n",
       "      <td>11529006</td>\n",
       "      <td>250025288</td>\n",
       "      <td>1</td>\n",
       "      <td>2851</td>\n",
       "      <td>True</td>\n",
       "      <td>25333.0</td>\n",
       "    </tr>\n",
       "    <tr>\n",
       "      <th>30690375</th>\n",
       "      <td>30690375</td>\n",
       "      <td>658827158</td>\n",
       "      <td>0</td>\n",
       "      <td>7341</td>\n",
       "      <td>True</td>\n",
       "      <td>29250.0</td>\n",
       "    </tr>\n",
       "    <tr>\n",
       "      <th>82308154</th>\n",
       "      <td>82308154</td>\n",
       "      <td>1752472942</td>\n",
       "      <td>0</td>\n",
       "      <td>4118</td>\n",
       "      <td>True</td>\n",
       "      <td>4000.0</td>\n",
       "    </tr>\n",
       "    <tr>\n",
       "      <th>63365164</th>\n",
       "      <td>63365164</td>\n",
       "      <td>1347409700</td>\n",
       "      <td>1</td>\n",
       "      <td>960</td>\n",
       "      <td>True</td>\n",
       "      <td>16000.0</td>\n",
       "    </tr>\n",
       "  </tbody>\n",
       "</table>\n",
       "</div>"
      ],
      "text/plain": [
       "            row_id     user_id  answered_correctly  content_id  \\\n",
       "87341296  87341296  1858251086                   1       10688   \n",
       "11529006  11529006   250025288                   1        2851   \n",
       "30690375  30690375   658827158                   0        7341   \n",
       "82308154  82308154  1752472942                   0        4118   \n",
       "63365164  63365164  1347409700                   1         960   \n",
       "\n",
       "          prior_question_had_explanation  prior_question_elapsed_time  \n",
       "87341296                            True                      16000.0  \n",
       "11529006                            True                      25333.0  \n",
       "30690375                            True                      29250.0  \n",
       "82308154                            True                       4000.0  \n",
       "63365164                            True                      16000.0  "
      ]
     },
     "execution_count": 6,
     "metadata": {},
     "output_type": "execute_result"
    }
   ],
   "source": [
    "train.head()"
   ]
  },
  {
   "cell_type": "code",
   "execution_count": 7,
   "metadata": {},
   "outputs": [
    {
     "data": {
      "text/html": [
       "<div>\n",
       "<style scoped>\n",
       "    .dataframe tbody tr th:only-of-type {\n",
       "        vertical-align: middle;\n",
       "    }\n",
       "\n",
       "    .dataframe tbody tr th {\n",
       "        vertical-align: top;\n",
       "    }\n",
       "\n",
       "    .dataframe thead th {\n",
       "        text-align: right;\n",
       "    }\n",
       "</style>\n",
       "<table border=\"1\" class=\"dataframe\">\n",
       "  <thead>\n",
       "    <tr style=\"text-align: right;\">\n",
       "      <th></th>\n",
       "      <th>user_id</th>\n",
       "      <th>user_questions_amount</th>\n",
       "      <th>user_correct_rate</th>\n",
       "      <th>watches_lecture</th>\n",
       "    </tr>\n",
       "  </thead>\n",
       "  <tbody>\n",
       "    <tr>\n",
       "      <th>0</th>\n",
       "      <td>115</td>\n",
       "      <td>3</td>\n",
       "      <td>0.666667</td>\n",
       "      <td>0</td>\n",
       "    </tr>\n",
       "    <tr>\n",
       "      <th>1</th>\n",
       "      <td>5382</td>\n",
       "      <td>3</td>\n",
       "      <td>0.666667</td>\n",
       "      <td>0</td>\n",
       "    </tr>\n",
       "    <tr>\n",
       "      <th>2</th>\n",
       "      <td>8623</td>\n",
       "      <td>1</td>\n",
       "      <td>1.000000</td>\n",
       "      <td>0</td>\n",
       "    </tr>\n",
       "    <tr>\n",
       "      <th>3</th>\n",
       "      <td>12741</td>\n",
       "      <td>3</td>\n",
       "      <td>0.333333</td>\n",
       "      <td>0</td>\n",
       "    </tr>\n",
       "    <tr>\n",
       "      <th>4</th>\n",
       "      <td>13134</td>\n",
       "      <td>12</td>\n",
       "      <td>0.666667</td>\n",
       "      <td>0</td>\n",
       "    </tr>\n",
       "  </tbody>\n",
       "</table>\n",
       "</div>"
      ],
      "text/plain": [
       "   user_id  user_questions_amount  user_correct_rate  watches_lecture\n",
       "0      115                      3           0.666667                0\n",
       "1     5382                      3           0.666667                0\n",
       "2     8623                      1           1.000000                0\n",
       "3    12741                      3           0.333333                0\n",
       "4    13134                     12           0.666667                0"
      ]
     },
     "execution_count": 7,
     "metadata": {},
     "output_type": "execute_result"
    }
   ],
   "source": [
    "import numpy as np\n",
    "user_df = train[train.answered_correctly != -1].groupby('user_id').agg({'answered_correctly': ['count', 'mean']}).reset_index()\n",
    "user_df.columns = ['user_id', 'user_questions_amount', 'user_correct_rate']\n",
    "\n",
    "user_lect = train.groupby([\"user_id\", \"answered_correctly\"]).size().unstack()\n",
    "user_lect.columns = ['Lecture', 'Wrong', 'Right']\n",
    "user_lect['Lecture'] = user_lect['Lecture'].fillna(0)\n",
    "\n",
    "user_lect = user_lect.astype('Int64')\n",
    "user_lect['watches_lecture'] = np.where(user_lect.Lecture > 0, 1, 0)\n",
    "user_lect = user_lect.reset_index()\n",
    "user_lect = user_lect[['user_id', 'watches_lecture']]\n",
    "\n",
    "user_df = user_df.merge(user_lect, on = \"user_id\", how = \"left\")\n",
    "del user_lect\n",
    "user_df.head()"
   ]
  },
  {
   "cell_type": "code",
   "execution_count": 8,
   "metadata": {},
   "outputs": [
    {
     "data": {
      "text/html": [
       "<div>\n",
       "<style scoped>\n",
       "    .dataframe tbody tr th:only-of-type {\n",
       "        vertical-align: middle;\n",
       "    }\n",
       "\n",
       "    .dataframe tbody tr th {\n",
       "        vertical-align: top;\n",
       "    }\n",
       "\n",
       "    .dataframe thead th {\n",
       "        text-align: right;\n",
       "    }\n",
       "</style>\n",
       "<table border=\"1\" class=\"dataframe\">\n",
       "  <thead>\n",
       "    <tr style=\"text-align: right;\">\n",
       "      <th></th>\n",
       "      <th>content_id</th>\n",
       "      <th>questions_answered_amount</th>\n",
       "      <th>question_correct_rate</th>\n",
       "    </tr>\n",
       "  </thead>\n",
       "  <tbody>\n",
       "    <tr>\n",
       "      <th>0</th>\n",
       "      <td>0</td>\n",
       "      <td>70</td>\n",
       "      <td>0.942857</td>\n",
       "    </tr>\n",
       "    <tr>\n",
       "      <th>1</th>\n",
       "      <td>1</td>\n",
       "      <td>46</td>\n",
       "      <td>0.934783</td>\n",
       "    </tr>\n",
       "    <tr>\n",
       "      <th>2</th>\n",
       "      <td>2</td>\n",
       "      <td>469</td>\n",
       "      <td>0.545842</td>\n",
       "    </tr>\n",
       "    <tr>\n",
       "      <th>3</th>\n",
       "      <td>3</td>\n",
       "      <td>227</td>\n",
       "      <td>0.784141</td>\n",
       "    </tr>\n",
       "    <tr>\n",
       "      <th>4</th>\n",
       "      <td>4</td>\n",
       "      <td>316</td>\n",
       "      <td>0.591772</td>\n",
       "    </tr>\n",
       "  </tbody>\n",
       "</table>\n",
       "</div>"
      ],
      "text/plain": [
       "   content_id  questions_answered_amount  question_correct_rate\n",
       "0           0                         70               0.942857\n",
       "1           1                         46               0.934783\n",
       "2           2                        469               0.545842\n",
       "3           3                        227               0.784141\n",
       "4           4                        316               0.591772"
      ]
     },
     "execution_count": 8,
     "metadata": {},
     "output_type": "execute_result"
    }
   ],
   "source": [
    "content_df = train[train.answered_correctly != -1].groupby('content_id').agg({'answered_correctly': ['count', 'mean']}).reset_index()\n",
    "content_df.columns = ['content_id', 'questions_answered_amount', 'question_correct_rate']\n",
    "content_df.head()"
   ]
  },
  {
   "cell_type": "code",
   "execution_count": 9,
   "metadata": {},
   "outputs": [],
   "source": [
    "train = train[train.answered_correctly != -1]\n",
    "\n",
    "mean_prior = train.prior_question_elapsed_time.astype(\"float64\").mean()"
   ]
  },
  {
   "cell_type": "code",
   "execution_count": 10,
   "metadata": {},
   "outputs": [
    {
     "data": {
      "text/html": [
       "<div>\n",
       "<style scoped>\n",
       "    .dataframe tbody tr th:only-of-type {\n",
       "        vertical-align: middle;\n",
       "    }\n",
       "\n",
       "    .dataframe tbody tr th {\n",
       "        vertical-align: top;\n",
       "    }\n",
       "\n",
       "    .dataframe thead th {\n",
       "        text-align: right;\n",
       "    }\n",
       "</style>\n",
       "<table border=\"1\" class=\"dataframe\">\n",
       "  <thead>\n",
       "    <tr style=\"text-align: right;\">\n",
       "      <th></th>\n",
       "      <th>row_id</th>\n",
       "      <th>user_id</th>\n",
       "      <th>answered_correctly</th>\n",
       "      <th>content_id</th>\n",
       "      <th>prior_question_had_explanation</th>\n",
       "      <th>prior_question_elapsed_time</th>\n",
       "      <th>user_questions_amount</th>\n",
       "      <th>user_correct_rate</th>\n",
       "      <th>watches_lecture</th>\n",
       "      <th>questions_answered_amount</th>\n",
       "      <th>question_correct_rate</th>\n",
       "    </tr>\n",
       "  </thead>\n",
       "  <tbody>\n",
       "    <tr>\n",
       "      <th>769507</th>\n",
       "      <td>76520276</td>\n",
       "      <td>1628975888</td>\n",
       "      <td>0</td>\n",
       "      <td>10169</td>\n",
       "      <td>1</td>\n",
       "      <td>49000.0</td>\n",
       "      <td>64</td>\n",
       "      <td>0.609375</td>\n",
       "      <td>1</td>\n",
       "      <td>41</td>\n",
       "      <td>0.658537</td>\n",
       "    </tr>\n",
       "    <tr>\n",
       "      <th>459661</th>\n",
       "      <td>90933424</td>\n",
       "      <td>1930286578</td>\n",
       "      <td>1</td>\n",
       "      <td>3395</td>\n",
       "      <td>1</td>\n",
       "      <td>25667.0</td>\n",
       "      <td>52</td>\n",
       "      <td>0.942308</td>\n",
       "      <td>1</td>\n",
       "      <td>71</td>\n",
       "      <td>0.718310</td>\n",
       "    </tr>\n",
       "    <tr>\n",
       "      <th>524518</th>\n",
       "      <td>43376119</td>\n",
       "      <td>918781738</td>\n",
       "      <td>1</td>\n",
       "      <td>7271</td>\n",
       "      <td>0</td>\n",
       "      <td>55200.0</td>\n",
       "      <td>54</td>\n",
       "      <td>0.703704</td>\n",
       "      <td>1</td>\n",
       "      <td>84</td>\n",
       "      <td>0.500000</td>\n",
       "    </tr>\n",
       "    <tr>\n",
       "      <th>132985</th>\n",
       "      <td>46207013</td>\n",
       "      <td>978472791</td>\n",
       "      <td>0</td>\n",
       "      <td>2417</td>\n",
       "      <td>1</td>\n",
       "      <td>12000.0</td>\n",
       "      <td>91</td>\n",
       "      <td>0.637363</td>\n",
       "      <td>1</td>\n",
       "      <td>65</td>\n",
       "      <td>0.630769</td>\n",
       "    </tr>\n",
       "    <tr>\n",
       "      <th>291144</th>\n",
       "      <td>21991719</td>\n",
       "      <td>472397262</td>\n",
       "      <td>0</td>\n",
       "      <td>3169</td>\n",
       "      <td>1</td>\n",
       "      <td>26333.0</td>\n",
       "      <td>23</td>\n",
       "      <td>0.782609</td>\n",
       "      <td>0</td>\n",
       "      <td>74</td>\n",
       "      <td>0.391892</td>\n",
       "    </tr>\n",
       "  </tbody>\n",
       "</table>\n",
       "</div>"
      ],
      "text/plain": [
       "          row_id     user_id  answered_correctly  content_id  \\\n",
       "769507  76520276  1628975888                   0       10169   \n",
       "459661  90933424  1930286578                   1        3395   \n",
       "524518  43376119   918781738                   1        7271   \n",
       "132985  46207013   978472791                   0        2417   \n",
       "291144  21991719   472397262                   0        3169   \n",
       "\n",
       "        prior_question_had_explanation  prior_question_elapsed_time  \\\n",
       "769507                               1                      49000.0   \n",
       "459661                               1                      25667.0   \n",
       "524518                               0                      55200.0   \n",
       "132985                               1                      12000.0   \n",
       "291144                               1                      26333.0   \n",
       "\n",
       "        user_questions_amount  user_correct_rate  watches_lecture  \\\n",
       "769507                     64           0.609375                1   \n",
       "459661                     52           0.942308                1   \n",
       "524518                     54           0.703704                1   \n",
       "132985                     91           0.637363                1   \n",
       "291144                     23           0.782609                0   \n",
       "\n",
       "        questions_answered_amount  question_correct_rate  \n",
       "769507                         41               0.658537  \n",
       "459661                         71               0.718310  \n",
       "524518                         84               0.500000  \n",
       "132985                         65               0.630769  \n",
       "291144                         74               0.391892  "
      ]
     },
     "execution_count": 10,
     "metadata": {},
     "output_type": "execute_result"
    }
   ],
   "source": [
    "from sklearn.preprocessing import LabelEncoder\n",
    "label_enc = LabelEncoder()\n",
    "\n",
    "train = train.merge(user_df, on = \"user_id\", how = \"left\")\n",
    "train = train.merge(content_df, on = \"content_id\", how = \"left\")\n",
    "train['questions_answered_amount'].fillna(0, inplace = True)\n",
    "train['question_correct_rate'].fillna(0.5, inplace = True)\n",
    "train['watches_lecture'].fillna(0, inplace = True)\n",
    "train['user_questions_amount'].fillna(0, inplace = True)\n",
    "train['user_correct_rate'].fillna(0.5, inplace = True)\n",
    "train['prior_question_elapsed_time'].fillna(mean_prior, inplace = True)\n",
    "train['prior_question_had_explanation'].fillna(False, inplace = True)\n",
    "train['prior_question_had_explanation'] = label_enc.fit_transform(train['prior_question_had_explanation'])\n",
    "train[['questions_answered_amount', 'user_questions_amount']] = train[['questions_answered_amount', 'user_questions_amount']].astype(int)\n",
    "train.sample(5)"
   ]
  },
  {
   "cell_type": "code",
   "execution_count": 11,
   "metadata": {},
   "outputs": [],
   "source": [
    "features = ['user_questions_amount', 'user_correct_rate', 'questions_answered_amount', 'question_correct_rate', 'prior_question_elapsed_time', 'prior_question_had_explanation']\n",
    "\n",
    "y_train = train[0:800000]['answered_correctly']\n",
    "X_train = train[0:800000][features]\n",
    "\n",
    "y_test = train[800000:1000000]['answered_correctly']\n",
    "X_test = train[800000:1000000][features]"
   ]
  },
  {
   "cell_type": "code",
   "execution_count": 15,
   "metadata": {},
   "outputs": [
    {
     "name": "stdout",
     "output_type": "stream",
     "text": [
      "[0]\ttrain-logloss:0.68888\tvalid-logloss:0.68905\n",
      "[10]\ttrain-logloss:0.65171\tvalid-logloss:0.65168\n",
      "[20]\ttrain-logloss:0.62065\tvalid-logloss:0.62082\n",
      "[29]\ttrain-logloss:0.59735\tvalid-logloss:0.59732\n"
     ]
    }
   ],
   "source": [
    "import xgboost\n",
    "params = {}\n",
    "params['objective'] = 'binary:logistic'\n",
    "params['eval_metric'] = 'logloss'\n",
    "params['eta'] = 0.04\n",
    "params['max_depth'] = 8\n",
    "params['learning_rate'] = 0.01\n",
    "\n",
    "d_train = xgboost.DMatrix(X_train, label=y_train)\n",
    "d_valid = xgboost.DMatrix(X_test, label=y_test)\n",
    "\n",
    "watchlist = [(d_train, 'train'), (d_valid, 'valid')]\n",
    "\n",
    "bst = xgboost.train(params, d_train, 30, watchlist, verbose_eval=10)\n",
    "y_pred = bst.predict(xgboost.DMatrix(X_test))"
   ]
  },
  {
   "cell_type": "code",
   "execution_count": 16,
   "metadata": {},
   "outputs": [
    {
     "name": "stdout",
     "output_type": "stream",
     "text": [
      "Accuracy: 0.781831\n",
      "f1-score: 0.843382\n"
     ]
    }
   ],
   "source": [
    "from sklearn.metrics import accuracy_score, f1_score\n",
    "y_pred_decision = [0] * len(y_pred)\n",
    "for i in range(len(y_pred)):\n",
    "    if(y_pred[i] <= 0.5):\n",
    "        y_pred_decision[i] = 0\n",
    "    else:\n",
    "        y_pred_decision[i] = 1\n",
    "print('Accuracy: %f' % accuracy_score(y_test, y_pred_decision))\n",
    "print('f1-score: %f' % f1_score(y_test, y_pred_decision))"
   ]
  }
 ],
 "metadata": {
  "kernelspec": {
   "display_name": "Python 3",
   "language": "python",
   "name": "python3"
  },
  "language_info": {
   "codemirror_mode": {
    "name": "ipython",
    "version": 3
   },
   "file_extension": ".py",
   "mimetype": "text/x-python",
   "name": "python",
   "nbconvert_exporter": "python",
   "pygments_lexer": "ipython3",
   "version": "3.7.3"
  }
 },
 "nbformat": 4,
 "nbformat_minor": 2
}
